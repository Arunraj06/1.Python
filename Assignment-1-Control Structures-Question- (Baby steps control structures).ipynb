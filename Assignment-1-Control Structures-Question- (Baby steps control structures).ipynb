{
 "cells": [
  {
   "cell_type": "code",
   "execution_count": 2,
   "metadata": {},
   "outputs": [
    {
     "name": "stdout",
     "output_type": "stream",
     "text": [
      "Welcome to Assignment-1\n"
     ]
    }
   ],
   "source": [
    "print(\"Welcome to Assignment-1\")"
   ]
  },
  {
   "cell_type": "code",
   "execution_count": 3,
   "metadata": {},
   "outputs": [
    {
     "name": "stdout",
     "output_type": "stream",
     "text": [
      "Num1= 10\n",
      "Num2= 30\n",
      "Add= 40\n"
     ]
    }
   ],
   "source": [
    "num1=10\n",
    "num2=30\n",
    "add=num1+num2\n",
    "print(\"Num1=\",num1)\n",
    "print(\"Num2=\",num2)\n",
    "print(\"Add=\",add)\n"
   ]
  },
  {
   "cell_type": "code",
   "execution_count": null,
   "metadata": {},
   "outputs": [],
   "source": [
    "#Body Mass Index"
   ]
  },
  {
   "cell_type": "code",
   "execution_count": 1,
   "metadata": {},
   "outputs": [
    {
     "name": "stdout",
     "output_type": "stream",
     "text": [
      "Enter the weight in kg:68\n",
      "Enter the height in meters:1.76\n",
      "Enter the BMI value: 21.952479338842977\n",
      "Normal\n"
     ]
    }
   ],
   "source": [
    "\n",
    "weight=float(input(\"Enter the weight in kg:\"))\n",
    "height=float(input(\"Enter the height in meters:\"))\n",
    "\n",
    "bmi=weight/height** 2\n",
    "print(\"Enter the BMI value:\", bmi)\n",
    "\n",
    "if(bmi<16):\n",
    "    print(\"Severe Thinness\")\n",
    "elif(bmi<17):\n",
    "    print(\"Moderate Thinness\")\n",
    "elif(bmi<18.6):\n",
    "    print(\"Mild Thinness\")\n",
    "elif(bmi<25.1):\n",
    "    print(\"Normal\")\n",
    "elif(bmi<30.1):\n",
    "    print(\"Overweight\")\n",
    "elif(bmi<35.1):\n",
    "    print(\"Obese class 1\")\n",
    "elif(bmi<40.1):\n",
    "    print(\"Obese class 2\")\n",
    "else:\n",
    "    print(\"Obese class 3\")"
   ]
  },
  {
   "cell_type": "code",
   "execution_count": null,
   "metadata": {},
   "outputs": [],
   "source": []
  }
 ],
 "metadata": {
  "kernelspec": {
   "display_name": "Python 3",
   "language": "python",
   "name": "python3"
  },
  "language_info": {
   "codemirror_mode": {
    "name": "ipython",
    "version": 3
   },
   "file_extension": ".py",
   "mimetype": "text/x-python",
   "name": "python",
   "nbconvert_exporter": "python",
   "pygments_lexer": "ipython3",
   "version": "3.7.4"
  }
 },
 "nbformat": 4,
 "nbformat_minor": 2
}
