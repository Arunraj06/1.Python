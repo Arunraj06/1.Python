{
 "cells": [
  {
   "cell_type": "code",
   "execution_count": null,
   "metadata": {},
   "outputs": [],
   "source": [
    "# Create a function"
   ]
  },
  {
   "cell_type": "code",
   "execution_count": 12,
   "metadata": {},
   "outputs": [],
   "source": [
    "def sub_fields():\n",
    "    print(\"Sub-fields in AI are:\")\n",
    "    AI=[\"Machine Learning\",\"Neural Networks\",\"Vision\",\"Robotics\",\"Speech Processing\",\"Natural Language Processing\"]\n",
    "    for fields in AI:\n",
    "        print(fields)"
   ]
  },
  {
   "cell_type": "code",
   "execution_count": 13,
   "metadata": {},
   "outputs": [
    {
     "name": "stdout",
     "output_type": "stream",
     "text": [
      "Sub-fields in AI are:\n",
      "Machine Learning\n",
      "Neural Networks\n",
      "Vision\n",
      "Robotics\n",
      "Speech Processing\n",
      "Natural Language Processing\n"
     ]
    }
   ],
   "source": [
    "sub_fields()"
   ]
  },
  {
   "cell_type": "code",
   "execution_count": null,
   "metadata": {},
   "outputs": [],
   "source": [
    "# Create a function that checks whether the given number is Odd or Even"
   ]
  },
  {
   "cell_type": "code",
   "execution_count": 14,
   "metadata": {},
   "outputs": [
    {
     "name": "stdout",
     "output_type": "stream",
     "text": [
      "Enter a number:5423\n",
      "Odd number\n"
     ]
    },
    {
     "data": {
      "text/plain": [
       "'The given number is odd'"
      ]
     },
     "execution_count": 14,
     "metadata": {},
     "output_type": "execute_result"
    }
   ],
   "source": [
    "def Oddeven():\n",
    "    num =int(input(\"Enter a number:\"))\n",
    "    if(num%2==0):\n",
    "        print(\"Even number\")\n",
    "        num_type=\"The given number is even\"\n",
    "    else:\n",
    "        print(\"Odd number\")\n",
    "        num_type=\"The given number is odd\"\n",
    "        return num_type"
   ]
  },
  {
   "cell_type": "code",
   "execution_count": 15,
   "metadata": {},
   "outputs": [
    {
     "name": "stdout",
     "output_type": "stream",
     "text": [
      "Enter a number:4586\n",
      "Even number\n"
     ]
    }
   ],
   "source": [
    "Oddeven()"
   ]
  },
  {
   "cell_type": "code",
   "execution_count": null,
   "metadata": {},
   "outputs": [],
   "source": [
    "#create function for male age is above 21"
   ]
  },
  {
   "cell_type": "code",
   "execution_count": 17,
   "metadata": {},
   "outputs": [],
   "source": [
    "def Eligible():\n",
    "    gender=input(\"Your Gender:\")\n",
    "    age=int(input(\"Your Age:\"))\n",
    "    if (age>=21):\n",
    "        print (\"Your are eligible for marriage\")\n",
    "    else:\n",
    "        print(\"your are not eligible for marriage\")\n",
    "    "
   ]
  },
  {
   "cell_type": "code",
   "execution_count": 18,
   "metadata": {},
   "outputs": [
    {
     "name": "stdout",
     "output_type": "stream",
     "text": [
      "Your Gender:Male\n",
      "Your Age:24\n",
      "Your are eligible for marriage\n"
     ]
    }
   ],
   "source": [
    "Eligible()"
   ]
  },
  {
   "cell_type": "code",
   "execution_count": null,
   "metadata": {},
   "outputs": [],
   "source": [
    "#create function for female age is above 18\n",
    "def Eligible():\n",
    "    gender=input(\"Your Gender:\")\n",
    "    age=int(input(\"Your Age:\"))\n",
    "    if (age>=18):\n",
    "        print (\"Your are eligible for marriage\")\n",
    "    else:\n",
    "        print(\"your are not eligible for marriage\")"
   ]
  },
  {
   "cell_type": "code",
   "execution_count": 19,
   "metadata": {},
   "outputs": [
    {
     "name": "stdout",
     "output_type": "stream",
     "text": [
      "Your Gender:Female\n",
      "Your Age:18\n",
      "your are not eligible for marriage\n"
     ]
    }
   ],
   "source": [
    "Eligible()"
   ]
  },
  {
   "cell_type": "code",
   "execution_count": null,
   "metadata": {},
   "outputs": [],
   "source": [
    "# calculate the percentage of your 10th mark"
   ]
  },
  {
   "cell_type": "code",
   "execution_count": 21,
   "metadata": {},
   "outputs": [],
   "source": [
    "def Percentage():\n",
    "    \n",
    "    Subject1=int(input(\"Tamil=\")) \n",
    "    Subject2=int(input(\"English=\")) \n",
    "    Subject3= int(input(\"Mathes=\")) \n",
    "    Subject4= int(input(\"Science=\")) \n",
    "    Subject5= int(input(\"Social science=\"))\n",
    "    Total =Subject1+Subject2+Subject3+Subject4+Subject5\n",
    "    print(\"Total:\",Total)\n",
    "    Percentage=float(Total/5)\n",
    "    print(\"Percentage:\",Percentage)\n",
    "    "
   ]
  },
  {
   "cell_type": "code",
   "execution_count": 22,
   "metadata": {},
   "outputs": [
    {
     "name": "stdout",
     "output_type": "stream",
     "text": [
      "Tamil=80\n",
      "English=79\n",
      "Mathes=91\n",
      "Science=98\n",
      "Social science=78\n",
      "Total: 426\n",
      "Percentage: 85.2\n"
     ]
    }
   ],
   "source": [
    "Percentage()"
   ]
  },
  {
   "cell_type": "code",
   "execution_count": null,
   "metadata": {},
   "outputs": [],
   "source": [
    "#print area and perimeter of triangle using class and functions"
   ]
  },
  {
   "cell_type": "code",
   "execution_count": 23,
   "metadata": {},
   "outputs": [],
   "source": [
    "def triangle():\n",
    "    #Area of triangle\n",
    "    print(\"Area of triangle==>\")\n",
    "    Height=int(input(\"Height:\"))\n",
    "    Breadth=int(input(\"breadth:\"))\n",
    "    print(\"Area of triangle:\",(Height*Breadth)/2)\n",
    "    #Perimeter of triangle\n",
    "    print(\"Perimeter of triangle==>\")\n",
    "    Height1=int(input(\"Height1:\"))\n",
    "    Height2= int(input(\"Height2:\"))\n",
    "    Breadth=int(input(\"Breadth:\"))\n",
    "    print(\"Perimeter of Triangle:\",Height1+Height2+Breadth)"
   ]
  },
  {
   "cell_type": "code",
   "execution_count": 24,
   "metadata": {},
   "outputs": [
    {
     "name": "stdout",
     "output_type": "stream",
     "text": [
      "Area of triangle==>\n",
      "Height:32\n",
      "breadth:34\n",
      "Area of triangle: 544.0\n",
      "Perimeter of triangle==>\n",
      "Height1:2\n",
      "Height2:4\n",
      "Breadth:4\n",
      "Perimeter of Triangle: 10\n"
     ]
    }
   ],
   "source": [
    "triangle()"
   ]
  },
  {
   "cell_type": "code",
   "execution_count": null,
   "metadata": {},
   "outputs": [],
   "source": []
  }
 ],
 "metadata": {
  "kernelspec": {
   "display_name": "Python 3",
   "language": "python",
   "name": "python3"
  },
  "language_info": {
   "codemirror_mode": {
    "name": "ipython",
    "version": 3
   },
   "file_extension": ".py",
   "mimetype": "text/x-python",
   "name": "python",
   "nbconvert_exporter": "python",
   "pygments_lexer": "ipython3",
   "version": "3.7.4"
  }
 },
 "nbformat": 4,
 "nbformat_minor": 2
}
